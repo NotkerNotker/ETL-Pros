{
 "cells": [
  {
   "cell_type": "code",
   "execution_count": 26,
   "metadata": {},
   "outputs": [
    {
     "data": {
      "text/plain": [
       "{'api': {'status': 200,\n",
       "  'message': 'GET players/playerId/125',\n",
       "  'results': 1,\n",
       "  'filters': ['playerId',\n",
       "   'teamId',\n",
       "   'league',\n",
       "   'country',\n",
       "   'lastName',\n",
       "   'firstName'],\n",
       "  'players': [{'firstName': 'Troy',\n",
       "    'lastName': 'Daniels',\n",
       "    'teamId': '17',\n",
       "    'yearsPro': '6',\n",
       "    'collegeName': 'Va Commonwealth',\n",
       "    'country': 'USA',\n",
       "    'playerId': '125',\n",
       "    'dateOfBirth': '1991-07-15',\n",
       "    'affiliation': 'Virginia Commonwealth/USA',\n",
       "    'startNba': '2013',\n",
       "    'heightInMeters': '1.93',\n",
       "    'weightInKilograms': '90.7',\n",
       "    'leagues': {'standard': {'jersey': '30', 'active': '1', 'pos': 'G'}}}]}}"
      ]
     },
     "execution_count": 26,
     "metadata": {},
     "output_type": "execute_result"
    }
   ],
   "source": [
    "import requests\n",
    "import pandas as pd\n",
    "from config import rapid_key\n",
    "\n",
    "\n",
    "url = \"https://api-nba-v1.p.rapidapi.com/players/playerId/125\"\n",
    "\n",
    "headers = {\n",
    "    'x-rapidapi-host': \"api-nba-v1.p.rapidapi.com\",\n",
    "    'x-rapidapi-key': rapid_key\n",
    "    }\n",
    "\n",
    "response = requests.request(\"GET\", url, headers=headers).json()\n",
    "\n",
    "response"
   ]
  },
  {
   "cell_type": "code",
   "execution_count": null,
   "metadata": {},
   "outputs": [],
   "source": []
  }
 ],
 "metadata": {
  "kernelspec": {
   "display_name": "Python 3",
   "language": "python",
   "name": "python3"
  },
  "language_info": {
   "codemirror_mode": {
    "name": "ipython",
    "version": 3
   },
   "file_extension": ".py",
   "mimetype": "text/x-python",
   "name": "python",
   "nbconvert_exporter": "python",
   "pygments_lexer": "ipython3",
   "version": "3.7.6"
  }
 },
 "nbformat": 4,
 "nbformat_minor": 4
}
