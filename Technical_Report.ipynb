{
 "cells": [
  {
   "cell_type": "markdown",
   "metadata": {},
   "source": [
    "# College Report\n",
    "---------------"
   ]
  },
  {
   "cell_type": "markdown",
   "metadata": {},
   "source": [
    "# Draft Report\n",
    "-------------"
   ]
  },
  {
   "cell_type": "markdown",
   "metadata": {},
   "source": [
    "# NBA Report\n",
    "-----------"
   ]
  },
  {
   "cell_type": "markdown",
   "metadata": {},
   "source": [
    "## Sources & Files\n",
    "- Source of Data: https://www.kaggle.com/drgilermo/nba-players-stats\n",
    "- Files Considered: player_data.csv ,  Seasons_Stats.csv"
   ]
  },
  {
   "cell_type": "markdown",
   "metadata": {},
   "source": [
    "## Lookup table creation \n",
    "### Extraction \n",
    "- [x] Read the Player data csv file\n",
    "### Transformation \n",
    "- [x] Take only the player name and create a new dataframe\n",
    "- [x] In the newly created dataframe create two new columns for first name and last name\n",
    "- [x] Remove any null value fields from the dataframe\n",
    "### Load \n",
    "- [x] Create a new table in PosgreSQL named players\n",
    "- [x] Load the dataframe created in the transformation phase into the players table\n",
    "- [x] Since players has an player_id column it will create an unique id for each of the player name\n",
    "- [x] Delete any dupes from the player table\n",
    "### Extraction \n",
    "- [x] Extract the records from the database into a CSV so that other stakeholders can use the IDs and remain consistent"
   ]
  },
  {
   "cell_type": "markdown",
   "metadata": {},
   "source": [
    "## NBA Player Information\n",
    "### Extraction \n",
    "- [x] Read the Player data csv file\n",
    "- [x] Read the Player lookup csv file\n",
    "### Transformation \n",
    "- [x] Merge the player data and the player lookup as in inner join on player name\n",
    "- [x] Only select the fields player id, career start year, career end year, height, & weight\n",
    "- [x] Remove any null value fields from the dataframe\n",
    "- [x] Rename the columns in a more descriptive manner\n",
    "### Load \n",
    "- [x] Create a new table in PosgreSQL named player_nba_information\n",
    "- [x] Load the dataframe created in the transformation phase into the player_nba_information table\n",
    "### Extraction \n",
    "- [x] Extract the records from the database into a CSV"
   ]
  },
  {
   "cell_type": "markdown",
   "metadata": {},
   "source": [
    "## NBA Stats Information\n",
    "### Extraction \n",
    "- [x] Read the Player stats data csv file\n",
    "- [x] Read the Player lookup csv file\n",
    "### Transformation \n",
    "- [x] Merge the player stats data and the player lookup as in inner join on player name\n",
    "- [x] Only select the fields player id, age of the player, year of the stat, team played for, position played\n",
    "    - [x] Feilds continued .. minutes played that season, points scored that season, two points scored that season\n",
    "    - [x] Feilds continued .. free throws made that season, assists that season, steals that season \n",
    "    - [x] Feilds continued .. blocks that season, turnovers that season, & field goal percentage that season\n",
    "- [x] Rename the columns in a more descriptive manner\n",
    "- [x] Remove any null value fields from the dataframe\n",
    "### Load \n",
    "- [x] Create a new table in PosgreSQL named player_nba_stats\n",
    "- [x] Load the dataframe created in the transformation phase into the player_nba_stats table\n",
    "### Extraction \n",
    "- [x] Extract the records from the database into a CSV"
   ]
  },
  {
   "cell_type": "markdown",
   "metadata": {},
   "source": [
    "## Player Information\n",
    "### Extraction \n",
    "- [x] Read the Player data csv file\n",
    "- [x] Read the Player csv file\n",
    "- [x] Read the Player lookup csv file\n",
    "### Transformation \n",
    "- [x] Merge the player data, player and the player lookup as an inner join on player name\n",
    "- [x] Only select the fields player id, date of birth, city of birth, state of birth\n",
    "- [x] Rename the columns in a more descriptive manner\n",
    "- [x] Remove any null value fields from the dataframe\n",
    "### Load \n",
    "- [x] Create a new table in PosgreSQL named player_information\n",
    "- [x] Load the dataframe created in the transformation phase into the player_information table\n",
    "### Extraction \n",
    "- [x] Extract the records from the database into a CSV"
   ]
  },
  {
   "cell_type": "code",
   "execution_count": null,
   "metadata": {},
   "outputs": [],
   "source": []
  }
 ],
 "metadata": {
  "kernelspec": {
   "display_name": "Python 3",
   "language": "python",
   "name": "python3"
  },
  "language_info": {
   "codemirror_mode": {
    "name": "ipython",
    "version": 3
   },
   "file_extension": ".py",
   "mimetype": "text/x-python",
   "name": "python",
   "nbconvert_exporter": "python",
   "pygments_lexer": "ipython3",
   "version": "3.7.6"
  }
 },
 "nbformat": 4,
 "nbformat_minor": 4
}
