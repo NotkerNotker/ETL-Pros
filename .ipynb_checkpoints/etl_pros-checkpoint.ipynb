{
 "cells": [
  {
   "cell_type": "code",
   "execution_count": 24,
   "metadata": {},
   "outputs": [],
   "source": [
    "import pandas as pd\n",
    "from sqlalchemy import create_engine\n",
    "from bs4 import BeautifulSoup\n",
    "import requests\n",
    "import os\n",
    "import lxml.html as lh"
   ]
  },
  {
   "cell_type": "code",
   "execution_count": 25,
   "metadata": {},
   "outputs": [],
   "source": [
    "url='https://www.sports-reference.com/cbb/play-index/psl_finder.cgi?request=1&match=single&year_max=2020&class_is_fr=Y&class_is_so=Y&class_is_jr=Y&class_is_sr=Y&pos_is_g=Y&pos_is_gf=Y&pos_is_f=Y&pos_is_fg=Y&pos_is_fc=Y&pos_is_c=Y&pos_is_cf=Y&games_type=A&order_by=pts'\n",
    "page = requests.get(url)\n",
    "doc = lh.fromstring(page.content)\n",
    "tr_elements = doc.xpath('//tr')"
   ]
  },
  {
   "cell_type": "code",
   "execution_count": 26,
   "metadata": {},
   "outputs": [
    {
     "data": {
      "text/plain": [
       "[2, 26, 26, 26, 26, 26, 26, 26, 26, 26, 26, 26]"
      ]
     },
     "execution_count": 26,
     "metadata": {},
     "output_type": "execute_result"
    }
   ],
   "source": [
    "[len(T) for T in tr_elements[:12]]"
   ]
  },
  {
   "cell_type": "code",
   "execution_count": 29,
   "metadata": {},
   "outputs": [
    {
     "data": {
      "text/html": [
       "<div>\n",
       "<style scoped>\n",
       "    .dataframe tbody tr th:only-of-type {\n",
       "        vertical-align: middle;\n",
       "    }\n",
       "\n",
       "    .dataframe tbody tr th {\n",
       "        vertical-align: top;\n",
       "    }\n",
       "\n",
       "    .dataframe thead th {\n",
       "        text-align: right;\n",
       "    }\n",
       "</style>\n",
       "<table border=\"1\" class=\"dataframe\">\n",
       "  <thead>\n",
       "    <tr style=\"text-align: right;\">\n",
       "      <th></th>\n",
       "      <th>Rk</th>\n",
       "      <th>Player</th>\n",
       "      <th>Class</th>\n",
       "      <th>College Season Start</th>\n",
       "      <th>College Season End</th>\n",
       "      <th>College Pos</th>\n",
       "      <th>College</th>\n",
       "      <th>Col Conf</th>\n",
       "      <th>Col Games Played</th>\n",
       "      <th>ColMP</th>\n",
       "      <th>...</th>\n",
       "      <th>Col FTA</th>\n",
       "      <th>Col ORB</th>\n",
       "      <th>Col DRB</th>\n",
       "      <th>Col TRB</th>\n",
       "      <th>Col AST</th>\n",
       "      <th>Col STL</th>\n",
       "      <th>Col BLK</th>\n",
       "      <th>Col TOV</th>\n",
       "      <th>Col PF</th>\n",
       "      <th>Col PTS</th>\n",
       "    </tr>\n",
       "  </thead>\n",
       "  <tbody>\n",
       "    <tr>\n",
       "      <th>0</th>\n",
       "      <td>1</td>\n",
       "      <td>Jimmer Fredette</td>\n",
       "      <td>SR</td>\n",
       "      <td>2010</td>\n",
       "      <td>11</td>\n",
       "      <td>G</td>\n",
       "      <td>Brigham Young</td>\n",
       "      <td>MWC</td>\n",
       "      <td>37</td>\n",
       "      <td>1323.0</td>\n",
       "      <td>...</td>\n",
       "      <td>282</td>\n",
       "      <td>24.0</td>\n",
       "      <td>103.0</td>\n",
       "      <td>127</td>\n",
       "      <td>160</td>\n",
       "      <td>49</td>\n",
       "      <td>1</td>\n",
       "      <td>131.0</td>\n",
       "      <td>49.0</td>\n",
       "      <td>1068</td>\n",
       "    </tr>\n",
       "    <tr>\n",
       "      <th>1</th>\n",
       "      <td>2</td>\n",
       "      <td>Glenn Robinson</td>\n",
       "      <td>JR</td>\n",
       "      <td>1993</td>\n",
       "      <td>94</td>\n",
       "      <td>F</td>\n",
       "      <td>Purdue</td>\n",
       "      <td>Big Ten</td>\n",
       "      <td>34</td>\n",
       "      <td>1166.0</td>\n",
       "      <td>...</td>\n",
       "      <td>270</td>\n",
       "      <td>NaN</td>\n",
       "      <td>NaN</td>\n",
       "      <td>344</td>\n",
       "      <td>66</td>\n",
       "      <td>56</td>\n",
       "      <td>31</td>\n",
       "      <td>139.0</td>\n",
       "      <td>88.0</td>\n",
       "      <td>1030</td>\n",
       "    </tr>\n",
       "    <tr>\n",
       "      <th>2</th>\n",
       "      <td>3</td>\n",
       "      <td>Chris Clemons</td>\n",
       "      <td>SR</td>\n",
       "      <td>2018</td>\n",
       "      <td>19</td>\n",
       "      <td>G</td>\n",
       "      <td>Campbell</td>\n",
       "      <td>Big South</td>\n",
       "      <td>33</td>\n",
       "      <td>1208.0</td>\n",
       "      <td>...</td>\n",
       "      <td>283</td>\n",
       "      <td>25.0</td>\n",
       "      <td>142.0</td>\n",
       "      <td>167</td>\n",
       "      <td>94</td>\n",
       "      <td>49</td>\n",
       "      <td>11</td>\n",
       "      <td>84.0</td>\n",
       "      <td>63.0</td>\n",
       "      <td>993</td>\n",
       "    </tr>\n",
       "    <tr>\n",
       "      <th>3</th>\n",
       "      <td>4</td>\n",
       "      <td>Stephen Curry</td>\n",
       "      <td>JR</td>\n",
       "      <td>2008</td>\n",
       "      <td>9</td>\n",
       "      <td>G</td>\n",
       "      <td>Davidson</td>\n",
       "      <td>Southern</td>\n",
       "      <td>34</td>\n",
       "      <td>1145.0</td>\n",
       "      <td>...</td>\n",
       "      <td>251</td>\n",
       "      <td>21.0</td>\n",
       "      <td>130.0</td>\n",
       "      <td>151</td>\n",
       "      <td>189</td>\n",
       "      <td>86</td>\n",
       "      <td>8</td>\n",
       "      <td>126.0</td>\n",
       "      <td>81.0</td>\n",
       "      <td>974</td>\n",
       "    </tr>\n",
       "    <tr>\n",
       "      <th>4</th>\n",
       "      <td>5</td>\n",
       "      <td>Kemba Walker</td>\n",
       "      <td>JR</td>\n",
       "      <td>2010</td>\n",
       "      <td>11</td>\n",
       "      <td>G</td>\n",
       "      <td>Connecticut</td>\n",
       "      <td>Big East</td>\n",
       "      <td>41</td>\n",
       "      <td>1543.0</td>\n",
       "      <td>...</td>\n",
       "      <td>315</td>\n",
       "      <td>53.0</td>\n",
       "      <td>170.0</td>\n",
       "      <td>223</td>\n",
       "      <td>184</td>\n",
       "      <td>77</td>\n",
       "      <td>7</td>\n",
       "      <td>93.0</td>\n",
       "      <td>56.0</td>\n",
       "      <td>965</td>\n",
       "    </tr>\n",
       "  </tbody>\n",
       "</table>\n",
       "<p>5 rows × 27 columns</p>\n",
       "</div>"
      ],
      "text/plain": [
       "   Rk           Player Class  College Season Start  College Season End  \\\n",
       "0   1  Jimmer Fredette    SR                  2010                  11   \n",
       "1   2   Glenn Robinson    JR                  1993                  94   \n",
       "2   3    Chris Clemons    SR                  2018                  19   \n",
       "3   4    Stephen Curry    JR                  2008                   9   \n",
       "4   5     Kemba Walker    JR                  2010                  11   \n",
       "\n",
       "  College Pos        College   Col Conf  Col Games Played   ColMP  ...  \\\n",
       "0           G  Brigham Young        MWC                37  1323.0  ...   \n",
       "1           F         Purdue    Big Ten                34  1166.0  ...   \n",
       "2           G       Campbell  Big South                33  1208.0  ...   \n",
       "3           G       Davidson   Southern                34  1145.0  ...   \n",
       "4           G    Connecticut   Big East                41  1543.0  ...   \n",
       "\n",
       "   Col FTA  Col ORB  Col DRB  Col TRB  Col AST  Col STL  Col BLK  Col TOV  \\\n",
       "0      282     24.0    103.0      127      160       49        1    131.0   \n",
       "1      270      NaN      NaN      344       66       56       31    139.0   \n",
       "2      283     25.0    142.0      167       94       49       11     84.0   \n",
       "3      251     21.0    130.0      151      189       86        8    126.0   \n",
       "4      315     53.0    170.0      223      184       77        7     93.0   \n",
       "\n",
       "   Col PF  Col PTS  \n",
       "0    49.0     1068  \n",
       "1    88.0     1030  \n",
       "2    63.0      993  \n",
       "3    81.0      974  \n",
       "4    56.0      965  \n",
       "\n",
       "[5 rows x 27 columns]"
      ]
     },
     "execution_count": 29,
     "metadata": {},
     "output_type": "execute_result"
    }
   ],
   "source": [
    "csv_file = \"ncaaplayerstats.csv\"\n",
    "rawdatastats_df = pd.read_csv(csv_file, encoding=\"ISO-8859-1\")\n",
    "rawdatastats_df.head()"
   ]
  },
  {
   "cell_type": "code",
   "execution_count": 34,
   "metadata": {},
   "outputs": [],
   "source": [
    "rawdatastats_df.rename(columns = {'College Season Start':'Col Season Start','College Season End':'Col Season End','College Pos':'Col Pos','ColMP':'Col MP'}, inplace = True)"
   ]
  },
  {
   "cell_type": "code",
   "execution_count": 35,
   "metadata": {},
   "outputs": [
    {
     "data": {
      "text/plain": [
       "Rk                  3000\n",
       "Player              3000\n",
       "Class               2999\n",
       "Col Season Start    3000\n",
       "Col Season End      3000\n",
       "Col Pos             2998\n",
       "College             3000\n",
       "Col Conf            3000\n",
       "Col Games Played    3000\n",
       "Col MP              2560\n",
       "Col FG              3000\n",
       "Col FGA             3000\n",
       "Col 2P              3000\n",
       "Col 2PA             3000\n",
       "Col 3P              3000\n",
       "Col 3PA             3000\n",
       "Col FT              3000\n",
       "Col FTA             3000\n",
       "Col ORB             2295\n",
       "Col DRB             2295\n",
       "Col TRB             3000\n",
       "Col AST             3000\n",
       "Col STL             3000\n",
       "Col BLK             3000\n",
       "Col TOV             2594\n",
       "Col PF              2615\n",
       "Col PTS             3000\n",
       "dtype: int64"
      ]
     },
     "execution_count": 35,
     "metadata": {},
     "output_type": "execute_result"
    }
   ],
   "source": [
    "rawdatastats_df.count()"
   ]
  },
  {
   "cell_type": "code",
   "execution_count": 36,
   "metadata": {},
   "outputs": [
    {
     "data": {
      "text/plain": [
       "Rk                  3000\n",
       "Player              3000\n",
       "Class               2999\n",
       "Col Season Start    3000\n",
       "Col Season End      3000\n",
       "Col Pos             2998\n",
       "College             3000\n",
       "Col Conf            3000\n",
       "Col Games Played    3000\n",
       "Col MP              2560\n",
       "Col FG              3000\n",
       "Col FGA             3000\n",
       "Col 2P              3000\n",
       "Col 2PA             3000\n",
       "Col 3P              3000\n",
       "Col 3PA             3000\n",
       "Col FT              3000\n",
       "Col FTA             3000\n",
       "Col ORB             2295\n",
       "Col DRB             2295\n",
       "Col TRB             3000\n",
       "Col AST             3000\n",
       "Col STL             3000\n",
       "Col BLK             3000\n",
       "Col TOV             2594\n",
       "Col PTS             3000\n",
       "dtype: int64"
      ]
     },
     "execution_count": 36,
     "metadata": {},
     "output_type": "execute_result"
    }
   ],
   "source": [
    "del rawdatastats_df['Col PF']\n",
    "rawdatastats_df.count()"
   ]
  },
  {
   "cell_type": "code",
   "execution_count": 37,
   "metadata": {},
   "outputs": [
    {
     "data": {
      "text/plain": [
       "Rk                    int64\n",
       "Player               object\n",
       "Class                object\n",
       "Col Season Start      int64\n",
       "Col Season End        int64\n",
       "Col Pos              object\n",
       "College              object\n",
       "Col Conf             object\n",
       "Col Games Played      int64\n",
       "Col MP              float64\n",
       "Col FG                int64\n",
       "Col FGA               int64\n",
       "Col 2P                int64\n",
       "Col 2PA               int64\n",
       "Col 3P                int64\n",
       "Col 3PA               int64\n",
       "Col FT                int64\n",
       "Col FTA               int64\n",
       "Col ORB             float64\n",
       "Col DRB             float64\n",
       "Col TRB               int64\n",
       "Col AST               int64\n",
       "Col STL               int64\n",
       "Col BLK               int64\n",
       "Col TOV             float64\n",
       "Col PTS               int64\n",
       "dtype: object"
      ]
     },
     "execution_count": 37,
     "metadata": {},
     "output_type": "execute_result"
    }
   ],
   "source": [
    "rawdatastats_df.dtypes"
   ]
  },
  {
   "cell_type": "code",
   "execution_count": 38,
   "metadata": {},
   "outputs": [],
   "source": [
    "clean_rawdatastats_df = rawdatastats_df.dropna(how='any')"
   ]
  },
  {
   "cell_type": "code",
   "execution_count": 39,
   "metadata": {},
   "outputs": [
    {
     "data": {
      "text/plain": [
       "Rk                    int64\n",
       "Player               object\n",
       "Class                object\n",
       "Col Season Start      int64\n",
       "Col Season End        int64\n",
       "Col Pos              object\n",
       "College              object\n",
       "Col Conf             object\n",
       "Col Games Played      int64\n",
       "Col MP              float64\n",
       "Col FG                int64\n",
       "Col FGA               int64\n",
       "Col 2P                int64\n",
       "Col 2PA               int64\n",
       "Col 3P                int64\n",
       "Col 3PA               int64\n",
       "Col FT                int64\n",
       "Col FTA               int64\n",
       "Col ORB             float64\n",
       "Col DRB             float64\n",
       "Col TRB               int64\n",
       "Col AST               int64\n",
       "Col STL               int64\n",
       "Col BLK               int64\n",
       "Col TOV             float64\n",
       "Col PTS               int64\n",
       "dtype: object"
      ]
     },
     "execution_count": 39,
     "metadata": {},
     "output_type": "execute_result"
    }
   ],
   "source": [
    "clean_rawdatastats_df.dtypes"
   ]
  },
  {
   "cell_type": "code",
   "execution_count": 40,
   "metadata": {},
   "outputs": [
    {
     "data": {
      "text/plain": [
       "Rk                  2243\n",
       "Player              2243\n",
       "Class               2243\n",
       "Col Season Start    2243\n",
       "Col Season End      2243\n",
       "Col Pos             2243\n",
       "College             2243\n",
       "Col Conf            2243\n",
       "Col Games Played    2243\n",
       "Col MP              2243\n",
       "Col FG              2243\n",
       "Col FGA             2243\n",
       "Col 2P              2243\n",
       "Col 2PA             2243\n",
       "Col 3P              2243\n",
       "Col 3PA             2243\n",
       "Col FT              2243\n",
       "Col FTA             2243\n",
       "Col ORB             2243\n",
       "Col DRB             2243\n",
       "Col TRB             2243\n",
       "Col AST             2243\n",
       "Col STL             2243\n",
       "Col BLK             2243\n",
       "Col TOV             2243\n",
       "Col PTS             2243\n",
       "dtype: int64"
      ]
     },
     "execution_count": 40,
     "metadata": {},
     "output_type": "execute_result"
    }
   ],
   "source": [
    "clean_rawdatastats_df.count()"
   ]
  },
  {
   "cell_type": "code",
   "execution_count": null,
   "metadata": {},
   "outputs": [],
   "source": []
  }
 ],
 "metadata": {
  "file_extension": ".py",
  "kernelspec": {
   "display_name": "Python 3.8.0 32-bit",
   "language": "python",
   "name": "python38032bit2aa203fcf465408284be29b8c2cb826f"
  },
  "language_info": {
   "codemirror_mode": {
    "name": "ipython",
    "version": 3
   },
   "file_extension": ".py",
   "mimetype": "text/x-python",
   "name": "python",
   "nbconvert_exporter": "python",
   "pygments_lexer": "ipython3",
   "version": "3.8.0"
  },
  "mimetype": "text/x-python",
  "name": "python",
  "npconvert_exporter": "python",
  "pygments_lexer": "ipython3",
  "version": 3
 },
 "nbformat": 4,
 "nbformat_minor": 4
}
