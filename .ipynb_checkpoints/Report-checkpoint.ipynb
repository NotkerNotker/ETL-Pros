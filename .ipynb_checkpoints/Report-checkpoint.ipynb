{
 "cells": [
  {
   "cell_type": "markdown",
   "metadata": {},
   "source": [
    "# College Report\n",
    "---------------"
   ]
  },
  {
   "cell_type": "markdown",
   "metadata": {},
   "source": [
    "## Sources & Files\n",
    "- Source of Data: https://www.sports-reference.com/cbb/play-index/psl_finder.cgi\n",
    "- Files Considered: ncaaplayerstats.csv, ncaa_career_avgs.csv, ncaa_career_totals.csv, ncaa_stats_per_season.csv, etl_pros.ipnyb"
   ]
  },
  {
   "cell_type": "markdown",
   "metadata": {},
   "source": [
    "## NCAA Player Stats\n",
    "### Extraction \n",
    "- [x] Utilized \"Sports-Reference.com\" Player Season Finder to query site's database\n",
    "- [x] Searched for single season data from \"any\" to \"2019-20\" seasons\n",
    "- [x] Query results sorted by Points (scored)\n",
    "- [x] Used site's share function to extract tables in csv format\n",
    "- [x] Stacked 30 pages of player data into single csv file containing 3000 rows and 27 columns\n",
    "### Transformation \n",
    "- [x] Renamed columns appropriately\n",
    "- [x] Observed row counts and series data types\n",
    "- [x] Removed unneed columns\n",
    "- [x] Dropped Rows with null values to avoid skewing data\n",
    "- [x] Used as a clean foundation for following tables to be loaded"
   ]
  },
  {
   "cell_type": "markdown",
   "metadata": {},
   "source": [
    "## NCAA Player Career Averages\n",
    "### Extraction \n",
    "- [x] Derived from grouping original csv by Player series\n",
    "- [x] Created new dataframe to hold mean of each statistical category over each player's college career\n",
    "### Transformation \n",
    "- [x] Determined beginning and end of each player's career by finding min and max season years\n",
    "- [x] Dropped series with irrelevant means\n",
    "- [x] Merged Min/Max dataframes with Mean dataframe\n",
    "- [x] Final merge with \"Player_Lookup.csv\" to display stats for players who have NBA Draft and NBA Stat data\n",
    "- [x] Saved as a new csv\n",
    "### Load \n",
    "- [x] Created a new table in PosgreSQL named \"ncaa_career_avgs\"\n",
    "- [x] Loaded transformed csv into new table"
   ]
  },
  {
   "cell_type": "markdown",
   "metadata": {},
   "source": [
    "## NCAA Player Career Totals\n",
    "### Extraction \n",
    "- [x] Derived from grouping original csv by Player series\n",
    "- [x] Created new dataframe to hold sums of each statistical category over each player's college career\n",
    "### Transformation \n",
    "- [x] Determined beginning and end of each player's career by finding min and max season years\n",
    "- [x] Dropped series with irrelevant means\n",
    "- [x] Merged Min/Max dataframes with Mean dataframe\n",
    "- [x] Final merge with \"Player_Lookup.csv\" to display stats for players who have NBA Draft and NBA Stat data\n",
    "- [x] Saved as a new csv\n",
    "### Load \n",
    "- [x] Created a new table in PosgreSQL named \"ncaa_career_totals\"\n",
    "- [x] Loaded transformed csv into new table"
   ]
  },
  {
   "cell_type": "markdown",
   "metadata": {},
   "source": [
    "## NCAA Player Stats Per Season\n",
    "### Extraction/Transformation \n",
    "- [x] Created by merging original cleaned dataframe with dataframe that contained NBA players\n",
    "- [x] Saved as a new csv\n",
    "### Load \n",
    "- [x] Created a new table in PosgreSQL named \"ncaa_stats_per_season\"\n",
    "- [x] Loaded transformed csv into new table"
   ]
  },
  {
   "cell_type": "markdown",
   "metadata": {},
   "source": [
    "# Draft Report\n",
    "-------------"
   ]
  },
  {
   "cell_type": "markdown",
   "metadata": {},
   "source": [
    "## Luke Ellison:\n",
    "\n",
    "Worked on cleaning draft data. Data was pulled from a seperate source than other NBA/College player stats but also came from kaggle [here](www.kaggle.com/pmp5kh/nba-draft-19802017/data) \n",
    "APIs we looked at either didn't match up with the scope of the project (too small/recent) or costed money so we decided to stick with using csv's pulled from kaggle for the most part, making things fairly streamlined.\n",
    "\n",
    "Cleaning and transforming the data in my case was quite a bit trickier. Comments in the cleaning file contain step by step explainations but essentially the trouble was reformatting the names in such a way where the data could be merged with the player_lookup via the given player name. This was particularly difficult due to encoding issues with foriegn names. Some names could be cleaned through excel's find and replace function and comparing to other player data, however at a certain point some rows had to be dropped in the interest of time. I also worked on cleaning the seasonal player data on the nba side. (though Nirmal apparently did it one his own as well) This one was much more straightforward because it after dropping null values and adjusting names, merging to connect IDs dropped all the data outside the scope of the project. \n",
    "\n",
    "We used postgresql to store our data. This was mostly because formatting a player ID key and sorting by players in a relational database was much more practical than having dictionary data for each player given the large number of stats available. We used quickdatabasediagrams.com to create the general format and addressed datatype issues as we moved along. Mostly involving column name adjustments. SQL files in my (Luke's) branch mostly used for test purposes. Nirmal handled the rest of the sql uploads. Finally added Visualizations to show usability of data"
   ]
  },
  {
   "cell_type": "markdown",
   "metadata": {},
   "source": [
    "# NBA Report\n",
    "-----------"
   ]
  },
  {
   "cell_type": "markdown",
   "metadata": {},
   "source": [
    "## Sources & Files\n",
    "- Source of Data: https://www.kaggle.com/drgilermo/nba-players-stats\n",
    "- Files Considered: player_data.csv ,  Seasons_Stats.csv"
   ]
  },
  {
   "cell_type": "markdown",
   "metadata": {},
   "source": [
    "## Lookup table creation \n",
    "### Extraction \n",
    "- [x] Read the Player data csv file\n",
    "### Transformation \n",
    "- [x] Take only the player name and create a new dataframe\n",
    "- [x] In the newly created dataframe create two new columns for first name and last name\n",
    "- [x] Remove any null value fields from the dataframe\n",
    "### Load \n",
    "- [x] Create a new table in PosgreSQL named players\n",
    "- [x] Load the dataframe created in the transformation phase into the players table\n",
    "- [x] Since players has an player_id column it will create an unique id for each of the player name\n",
    "- [x] Delete any dupes from the player table\n",
    "### Extraction \n",
    "- [x] Extract the records from the database into a CSV so that other stakeholders can use the IDs and remain consistent"
   ]
  },
  {
   "cell_type": "markdown",
   "metadata": {},
   "source": [
    "## Player Information\n",
    "### Extraction \n",
    "- [x] Read the Player data csv file\n",
    "- [x] Read the Player csv file\n",
    "- [x] Read the Player lookup csv file\n",
    "### Transformation \n",
    "- [x] Merge the player data, player and the player lookup as an inner join on player name\n",
    "- [x] Only select the fields player id, date of birth, city of birth, state of birth\n",
    "- [x] Rename the columns in a more descriptive manner\n",
    "- [x] Remove any null value fields from the dataframe\n",
    "### Load \n",
    "- [x] Create a new table in PosgreSQL named player_information\n",
    "- [x] Load the dataframe created in the transformation phase into the player_information table\n",
    "### Extraction \n",
    "- [x] Extract the records from the database into a CSV"
   ]
  },
  {
   "cell_type": "markdown",
   "metadata": {},
   "source": [
    "## NBA Player Information\n",
    "### Extraction \n",
    "- [x] Read the Player data csv file\n",
    "- [x] Read the Player lookup csv file\n",
    "### Transformation \n",
    "- [x] Merge the player data and the player lookup as in inner join on player name\n",
    "- [x] Only select the fields player id, career start year, career end year, height, & weight\n",
    "- [x] Remove any null value fields from the dataframe\n",
    "- [x] Rename the columns in a more descriptive manner\n",
    "### Load \n",
    "- [x] Create a new table in PosgreSQL named player_nba_information\n",
    "- [x] Load the dataframe created in the transformation phase into the player_nba_information table\n",
    "### Extraction \n",
    "- [x] Extract the records from the database into a CSV"
   ]
  },
  {
   "cell_type": "markdown",
   "metadata": {},
   "source": [
    "## NBA Stats Information\n",
    "### Extraction \n",
    "- [x] Read the Player stats data csv file\n",
    "- [x] Read the Player lookup csv file\n",
    "### Transformation \n",
    "- [x] Merge the player stats data and the player lookup as in inner join on player name\n",
    "- [x] Only select the fields player id, age of the player, year of the stat, team played for, position played\n",
    "    - [x] Feilds continued .. minutes played that season, points scored that season, two points scored that season\n",
    "    - [x] Feilds continued .. free throws made that season, assists that season, steals that season \n",
    "    - [x] Feilds continued .. blocks that season, turnovers that season, & field goal percentage that season\n",
    "- [x] Rename the columns in a more descriptive manner\n",
    "- [x] Remove any null value fields from the dataframe\n",
    "### Load \n",
    "- [x] Create a new table in PosgreSQL named player_nba_stats\n",
    "- [x] Load the dataframe created in the transformation phase into the player_nba_stats table\n",
    "### Extraction \n",
    "- [x] Extract the records from the database into a CSV"
   ]
  }
 ],
 "metadata": {
  "kernelspec": {
   "display_name": "Python 3",
   "language": "python",
   "name": "python3"
  },
  "language_info": {
   "codemirror_mode": {
    "name": "ipython",
    "version": 3
   },
   "file_extension": ".py",
   "mimetype": "text/x-python",
   "name": "python",
   "nbconvert_exporter": "python",
   "pygments_lexer": "ipython3",
   "version": "3.7.6"
  }
 },
 "nbformat": 4,
 "nbformat_minor": 4
}
