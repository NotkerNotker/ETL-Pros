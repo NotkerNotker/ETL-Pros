{
 "cells": [
  {
   "cell_type": "markdown",
   "metadata": {},
   "source": [
    "# Luke Ellison:\n",
    "\n",
    "Worked on cleaning draft data. Data was pulled from a seperate source than other NBA/College player stats but also came from kaggle [here](www.kaggle.com/pmp5kh/nba-draft-19802017/data) \n",
    "APIs we looked at either didn't match up with the scope of the project (too small/recent) or costed money so we decided to stick with using csv's pulled from kaggle for the most part, making things fairly streamlined.\n",
    "\n",
    "Cleaning and transforming the data in my case was quite a bit trickier. Comments in the cleaning file contain step by step explainations but essentially the trouble was reformatting the names in such a way where the data could be merged with the player_lookup via the given player name. This was particularly difficult due to encoding issues with foriegn names. Some names could be cleaned through excel's find and replace function and comparing to other player data, however at a certain point some rows had to be dropped in the interest of time. I also worked on cleaning the seasonal player data on the nba side. (though Nirmal apparently did it one his own as well) This one was much more straightforward because it after dropping null values and adjusting names, merging to connect IDs dropped all the data outside the scope of the project. \n",
    "\n",
    "We used postgresql to store our data. This was mostly because formatting a player ID key and sorting by players in a relational database was much more practical than having dictionary data for each player given the large number of stats available. We used quickdatabasediagrams.com to create the general format and addressed datatype issues as we moved along. Mostly involving column name adjustments. SQL files in my (Luke's) branch mostly used for test purposes. Nirmal handled the rest of the sql uploads."
   ]
  }
 ],
 "metadata": {
  "kernelspec": {
   "display_name": "Python 3",
   "language": "python",
   "name": "python3"
  },
  "language_info": {
   "codemirror_mode": {
    "name": "ipython",
    "version": 3
   },
   "file_extension": ".py",
   "mimetype": "text/x-python",
   "name": "python",
   "nbconvert_exporter": "python",
   "pygments_lexer": "ipython3",
   "version": "3.7.6"
  }
 },
 "nbformat": 4,
 "nbformat_minor": 4
}
